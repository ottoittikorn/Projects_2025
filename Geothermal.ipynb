{
 "cells": [
  {
   "cell_type": "markdown",
   "id": "335a9ec4",
   "metadata": {},
   "source": [
    "# **How Good is Geothermal Energy? Is it our Future? When will it be ready?**\n",
    "### Predicting cost drops & UK Feasibility "
   ]
  },
  {
   "cell_type": "markdown",
   "id": "c4141c0d",
   "metadata": {},
   "source": [
    "### **Project Objective**\n",
    "\n",
    "Quantitatively evaluate the economic prospects of geothermal power for the UK by forecasting future **Levelised Cost of Energy (LCOE)** for geothermal, comparing it to other power sources (e.g. wind, solar, nuclear), and assessing whether geothermal deployment at scale is economically and technically feasible in the UK.\n",
    "\n",
    "Questions/Problems:\n",
    "- How will geothermal LCOE evolve over the next 10–30 years under plausible scenarios?\n",
    "- When (if at all) might geothermal reach grid parity versus alternatives in the UK?\n",
    "- What is the financial viability (NPV / IRR) of a representative UK geothermal plant under different cost scenarios?"
   ]
  },
  {
   "cell_type": "code",
   "execution_count": null,
   "id": "5bfbd85b",
   "metadata": {},
   "outputs": [],
   "source": []
  }
 ],
 "metadata": {
  "language_info": {
   "name": "python"
  }
 },
 "nbformat": 4,
 "nbformat_minor": 5
}
