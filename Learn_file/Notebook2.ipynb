{
 "cells": [
  {
   "cell_type": "code",
   "execution_count": 33,
   "id": "470e7b82",
   "metadata": {},
   "outputs": [],
   "source": [
    "import pandas as pd\n",
    "import matplotlib.pyplot as plt\n",
    "import seaborn as sns\n"
   ]
  },
  {
   "cell_type": "code",
   "execution_count": null,
   "id": "d18cdcab",
   "metadata": {},
   "outputs": [
    {
     "data": {
      "application/vnd.microsoft.datawrangler.viewer.v0+json": {
       "columns": [
        {
         "name": "index",
         "rawType": "int64",
         "type": "integer"
        },
        {
         "name": "Restaurant ID",
         "rawType": "int64",
         "type": "integer"
        },
        {
         "name": "Restaurant Name",
         "rawType": "object",
         "type": "string"
        },
        {
         "name": "Country Code",
         "rawType": "int64",
         "type": "integer"
        },
        {
         "name": "City",
         "rawType": "object",
         "type": "string"
        },
        {
         "name": "Address",
         "rawType": "object",
         "type": "string"
        },
        {
         "name": "Locality",
         "rawType": "object",
         "type": "string"
        },
        {
         "name": "Locality Verbose",
         "rawType": "object",
         "type": "string"
        },
        {
         "name": "Longitude",
         "rawType": "float64",
         "type": "float"
        },
        {
         "name": "Latitude",
         "rawType": "float64",
         "type": "float"
        },
        {
         "name": "Cuisines",
         "rawType": "object",
         "type": "unknown"
        },
        {
         "name": "Average Cost for two",
         "rawType": "int64",
         "type": "integer"
        },
        {
         "name": "Currency",
         "rawType": "object",
         "type": "string"
        },
        {
         "name": "Has Table booking",
         "rawType": "object",
         "type": "string"
        },
        {
         "name": "Has Online delivery",
         "rawType": "object",
         "type": "string"
        },
        {
         "name": "Is delivering now",
         "rawType": "object",
         "type": "string"
        },
        {
         "name": "Switch to order menu",
         "rawType": "object",
         "type": "string"
        },
        {
         "name": "Price range",
         "rawType": "int64",
         "type": "integer"
        },
        {
         "name": "Aggregate rating",
         "rawType": "float64",
         "type": "float"
        },
        {
         "name": "Rating color",
         "rawType": "object",
         "type": "string"
        },
        {
         "name": "Rating text",
         "rawType": "object",
         "type": "string"
        },
        {
         "name": "Votes",
         "rawType": "int64",
         "type": "integer"
        }
       ],
       "ref": "6bfa1ba7-faef-4274-a15b-5c7c74f42e62",
       "rows": [
        [
         "0",
         "6317637",
         "Le Petit Souffle",
         "162",
         "Makati City",
         "Third Floor, Century City Mall, Kalayaan Avenue, Poblacion, Makati City",
         "Century City Mall, Poblacion, Makati City",
         "Century City Mall, Poblacion, Makati City, Makati City",
         "121.027535",
         "14.565443",
         "French, Japanese, Desserts",
         "1100",
         "Botswana Pula(P)",
         "Yes",
         "No",
         "No",
         "No",
         "3",
         "4.8",
         "Dark Green",
         "Excellent",
         "314"
        ],
        [
         "1",
         "6304287",
         "Izakaya Kikufuji",
         "162",
         "Makati City",
         "Little Tokyo, 2277 Chino Roces Avenue, Legaspi Village, Makati City",
         "Little Tokyo, Legaspi Village, Makati City",
         "Little Tokyo, Legaspi Village, Makati City, Makati City",
         "121.014101",
         "14.553708",
         "Japanese",
         "1200",
         "Botswana Pula(P)",
         "Yes",
         "No",
         "No",
         "No",
         "3",
         "4.5",
         "Dark Green",
         "Excellent",
         "591"
        ],
        [
         "2",
         "6300002",
         "Heat - Edsa Shangri-La",
         "162",
         "Mandaluyong City",
         "Edsa Shangri-La, 1 Garden Way, Ortigas, Mandaluyong City",
         "Edsa Shangri-La, Ortigas, Mandaluyong City",
         "Edsa Shangri-La, Ortigas, Mandaluyong City, Mandaluyong City",
         "121.056831",
         "14.581404",
         "Seafood, Asian, Filipino, Indian",
         "4000",
         "Botswana Pula(P)",
         "Yes",
         "No",
         "No",
         "No",
         "4",
         "4.4",
         "Green",
         "Very Good",
         "270"
        ],
        [
         "3",
         "6318506",
         "Ooma",
         "162",
         "Mandaluyong City",
         "Third Floor, Mega Fashion Hall, SM Megamall, Ortigas, Mandaluyong City",
         "SM Megamall, Ortigas, Mandaluyong City",
         "SM Megamall, Ortigas, Mandaluyong City, Mandaluyong City",
         "121.056475",
         "14.585318",
         "Japanese, Sushi",
         "1500",
         "Botswana Pula(P)",
         "No",
         "No",
         "No",
         "No",
         "4",
         "4.9",
         "Dark Green",
         "Excellent",
         "365"
        ],
        [
         "4",
         "6314302",
         "Sambo Kojin",
         "162",
         "Mandaluyong City",
         "Third Floor, Mega Atrium, SM Megamall, Ortigas, Mandaluyong City",
         "SM Megamall, Ortigas, Mandaluyong City",
         "SM Megamall, Ortigas, Mandaluyong City, Mandaluyong City",
         "121.057508",
         "14.58445",
         "Japanese, Korean",
         "1500",
         "Botswana Pula(P)",
         "Yes",
         "No",
         "No",
         "No",
         "4",
         "4.8",
         "Dark Green",
         "Excellent",
         "229"
        ],
        [
         "5",
         "18189371",
         "Din Tai Fung",
         "162",
         "Mandaluyong City",
         "Ground Floor, Mega Fashion Hall, SM Megamall, Ortigas, Mandaluyong City",
         "SM Megamall, Ortigas, Mandaluyong City",
         "SM Megamall, Ortigas, Mandaluyong City, Mandaluyong City",
         "121.056314",
         "14.583764",
         "Chinese",
         "1000",
         "Botswana Pula(P)",
         "No",
         "No",
         "No",
         "No",
         "3",
         "4.4",
         "Green",
         "Very Good",
         "336"
        ],
        [
         "6",
         "6300781",
         "Buffet 101",
         "162",
         "Pasay City",
         "Building K, SM By The Bay, Sunset Boulevard, Mall of Asia Complex (MOA), Pasay City",
         "SM by the Bay, Mall of Asia Complex, Pasay City",
         "SM by the Bay, Mall of Asia Complex, Pasay City, Pasay City",
         "120.9796667",
         "14.53133333",
         "Asian, European",
         "2000",
         "Botswana Pula(P)",
         "Yes",
         "No",
         "No",
         "No",
         "4",
         "4.0",
         "Green",
         "Very Good",
         "520"
        ],
        [
         "7",
         "6301290",
         "Vikings",
         "162",
         "Pasay City",
         "Building B, By The Bay, Seaside Boulevard, Mall of Asia Complex (MOA), Pasay City",
         "SM by the Bay, Mall of Asia Complex, Pasay City",
         "SM by the Bay, Mall of Asia Complex, Pasay City, Pasay City",
         "120.9793333",
         "14.54",
         "Seafood, Filipino, Asian, European",
         "2000",
         "Botswana Pula(P)",
         "Yes",
         "No",
         "No",
         "No",
         "4",
         "4.2",
         "Green",
         "Very Good",
         "677"
        ],
        [
         "8",
         "6300010",
         "Spiral - Sofitel Philippine Plaza Manila",
         "162",
         "Pasay City",
         "Plaza Level, Sofitel Philippine Plaza Manila, CCP Complex, Pasay City",
         "Sofitel Philippine Plaza Manila, Pasay City",
         "Sofitel Philippine Plaza Manila, Pasay City, Pasay City",
         "120.98009",
         "14.55299",
         "European, Asian, Indian",
         "6000",
         "Botswana Pula(P)",
         "Yes",
         "No",
         "No",
         "No",
         "4",
         "4.9",
         "Dark Green",
         "Excellent",
         "621"
        ],
        [
         "9",
         "6314987",
         "Locavore",
         "162",
         "Pasig City",
         "Brixton Technology Center, 10 Brixton Street, Kapitolyo, Pasig City",
         "Kapitolyo",
         "Kapitolyo, Pasig City",
         "121.056532",
         "14.572041",
         "Filipino",
         "1100",
         "Botswana Pula(P)",
         "Yes",
         "No",
         "No",
         "No",
         "3",
         "4.8",
         "Dark Green",
         "Excellent",
         "532"
        ],
        [
         "10",
         "6309903",
         "Silantro Fil-Mex",
         "162",
         "Pasig City",
         "75 East Capitol Drive, Kapitolyo, Pasig City",
         "Kapitolyo",
         "Kapitolyo, Pasig City",
         "121.057916",
         "14.567689",
         "Filipino, Mexican",
         "800",
         "Botswana Pula(P)",
         "No",
         "No",
         "No",
         "No",
         "3",
         "4.9",
         "Dark Green",
         "Excellent",
         "1070"
        ],
        [
         "11",
         "6309455",
         "Mad Mark's Creamery & Good Eats",
         "162",
         "Pasig City",
         "23 East Capitol Drive, Kapitolyo, Pasig City",
         "Kapitolyo",
         "Kapitolyo, Pasig City",
         "121.06082",
         "14.570849",
         "American, Ice Cream, Desserts",
         "900",
         "Botswana Pula(P)",
         "Yes",
         "No",
         "No",
         "No",
         "3",
         "4.2",
         "Green",
         "Very Good",
         "488"
        ],
        [
         "12",
         "6318433",
         "Silantro Fil-Mex",
         "162",
         "Quezon City",
         "Second Floor, UP Town Center, Katipunan Avenue, Diliman, Quezon City",
         "UP Town Center, Diliman, Quezon City",
         "UP Town Center, Diliman, Quezon City, Quezon City",
         "121.075419",
         "14.649503",
         "Filipino, Mexican",
         "800",
         "Botswana Pula(P)",
         "No",
         "No",
         "No",
         "No",
         "3",
         "4.8",
         "Dark Green",
         "Excellent",
         "294"
        ],
        [
         "13",
         "6310470",
         "Guevarra's",
         "162",
         "San Juan City",
         "387 P. Guevarra Corner Argonne Street, Addition Hills, San Juan City",
         "Addition Hills",
         "Addition Hills, San Juan City",
         "121.0335917",
         "14.59345",
         "Filipino",
         "1000",
         "Botswana Pula(P)",
         "Yes",
         "No",
         "No",
         "No",
         "3",
         "4.2",
         "Green",
         "Very Good",
         "458"
        ],
        [
         "14",
         "6314605",
         "Sodam Korean Restaurant",
         "162",
         "San Juan City",
         "17 J. Abad Santos Drive, Little Baguio, San Juan City",
         "Little Baguio",
         "Little Baguio, San Juan City",
         "121.03811",
         "14.59889",
         "Korean",
         "700",
         "Botswana Pula(P)",
         "No",
         "No",
         "No",
         "No",
         "3",
         "4.3",
         "Green",
         "Very Good",
         "223"
        ],
        [
         "15",
         "18185059",
         "Cafe Arabelle",
         "162",
         "Santa Rosa",
         "Ayala Mall, Solenad, Nuvali, Santa Rosa - Tagaytay Road, Don Jose, Santa Rosa",
         "Nuvali, Don Jose, Santa Rosa",
         "Nuvali, Don Jose, Santa Rosa, Santa Rosa",
         "121.05704",
         "14.237082",
         "Cafe, American, Italian, Filipino",
         "800",
         "Botswana Pula(P)",
         "No",
         "No",
         "No",
         "No",
         "3",
         "3.6",
         "Yellow",
         "Good",
         "29"
        ],
        [
         "16",
         "18182702",
         "Nonna's Pasta & Pizzeria",
         "162",
         "Santa Rosa",
         "Ground Floor, Building G, Solenad 3, Nuvali, Don Jose, Santa Rosa",
         "Solenad 3, Don Jose, Santa Rosa",
         "Solenad 3, Don Jose, Santa Rosa, Santa Rosa",
         "121.0565874",
         "14.23767897",
         "Italian, Pizza",
         "850",
         "Botswana Pula(P)",
         "No",
         "No",
         "No",
         "No",
         "3",
         "4.0",
         "Green",
         "Very Good",
         "72"
        ],
        [
         "17",
         "6318213",
         "Balay Dako",
         "162",
         "Tagaytay City",
         "Aguinaldo Highway, Tagaytay City",
         "Tagaytay City",
         "Tagaytay City, Tagaytay City",
         "120.951589",
         "14.101834",
         "Filipino",
         "1200",
         "Botswana Pula(P)",
         "Yes",
         "No",
         "No",
         "No",
         "3",
         "4.5",
         "Dark Green",
         "Excellent",
         "211"
        ],
        [
         "18",
         "18255654",
         "Hobing Korean Dessert Cafe",
         "162",
         "Taguig City",
         "Third Floor, BGC Stopover Pavillion, Rizal Drive Corner 31st Street, Bonifacio Global City, Taguig City",
         "BGC Stopover Pavillion, Bonifacio Global City",
         "BGC Stopover Pavillion, Bonifacio Global City, Taguig City",
         "121.045878",
         "14.55436",
         "Cafe, Korean, Desserts",
         "600",
         "Botswana Pula(P)",
         "No",
         "No",
         "No",
         "No",
         "2",
         "4.5",
         "Dark Green",
         "Excellent",
         "118"
        ],
        [
         "19",
         "6308205",
         "Wildflour Cafe + Bakery",
         "162",
         "Taguig City",
         "Ground Floor, Netlima Building, 4th Avenue Corner 26th Street, Bonifacio Global City, Taguig City",
         "Bonifacio Global City",
         "Bonifacio Global City, Taguig City",
         "121.04622",
         "14.549337",
         "Cafe, Bakery, American, Italian",
         "1500",
         "Botswana Pula(P)",
         "Yes",
         "No",
         "No",
         "No",
         "4",
         "4.4",
         "Green",
         "Very Good",
         "392"
        ],
        [
         "20",
         "6315438",
         "NIU by Vikings",
         "162",
         "Taguig City",
         "Sixth Floor, SM Aura Premier, C5 Road Corner 26th Street, Bonifacio Global City, Taguig City",
         "SM Aura Premier, Bonifacio Global City, Taguig City",
         "SM Aura Premier, Bonifacio Global City, Taguig City, Taguig City",
         "121.053725",
         "14.545858",
         "Seafood, American, Mediterranean, Japanese",
         "3000",
         "Botswana Pula(P)",
         "Yes",
         "No",
         "No",
         "No",
         "4",
         "4.7",
         "Dark Green",
         "Excellent",
         "535"
        ],
        [
         "21",
         "6310406",
         "The Food Hall by Todd English",
         "162",
         "Taguig City",
         "Fifth Floor, SM Aura Premier, C5 Corner 26th Street, Bonifacio Global City, Taguig City",
         "SM Aura Premier, Bonifacio Global City, Taguig City",
         "SM Aura Premier, Bonifacio Global City, Taguig City, Taguig City",
         "121.0534998",
         "14.54565535",
         "American, Asian, Italian, Seafood",
         "1800",
         "Botswana Pula(P)",
         "Yes",
         "No",
         "No",
         "No",
         "4",
         "4.5",
         "Dark Green",
         "Excellent",
         "618"
        ],
        [
         "22",
         "6600681",
         "Chez Michou",
         "30",
         "Bras�_lia",
         "SCLN, 208, Bloco A, Loja 30, Asa Norte, Bras�_lia",
         "Asa Norte",
         "Asa Norte, Bras�_lia",
         "-47.88178889",
         "-15.76414167",
         "Fast Food, French",
         "55",
         "Brazilian Real(R$)",
         "No",
         "No",
         "No",
         "No",
         "2",
         "3.0",
         "Orange",
         "Average",
         "6"
        ],
        [
         "23",
         "6601005",
         "Caf�� Daniel Briand",
         "30",
         "Bras�_lia",
         "SCLN 104, Bloco A, Loja 26, Asa Norte, Bras�_lia",
         "Asa Norte",
         "Asa Norte, Bras�_lia",
         "-47.88266667",
         "-15.7775",
         "Cafe",
         "30",
         "Brazilian Real(R$)",
         "No",
         "No",
         "No",
         "No",
         "1",
         "3.8",
         "Yellow",
         "Good",
         "9"
        ],
        [
         "24",
         "6600292",
         "Casa do Biscoito Mineiro",
         "30",
         "Bras�_lia",
         "SCLN 210, Bloco D, Loja 36/48, Asa Norte, Bras�_lia",
         "Asa Norte",
         "Asa Norte, Bras�_lia",
         "-47.88213611",
         "-15.75747222",
         "Bakery",
         "45",
         "Brazilian Real(R$)",
         "No",
         "No",
         "No",
         "No",
         "2",
         "3.7",
         "Yellow",
         "Good",
         "11"
        ],
        [
         "25",
         "6600441",
         "Maori",
         "30",
         "Bras�_lia",
         "CLN 110, Bloco D, Loja 28, Asa Norte, Bras�_lia",
         "Asa Norte",
         "Asa Norte, Bras�_lia",
         "-47.88816667",
         "-15.75883333",
         "Brazilian",
         "60",
         "Brazilian Real(R$)",
         "No",
         "No",
         "No",
         "No",
         "3",
         "3.8",
         "Yellow",
         "Good",
         "11"
        ],
        [
         "26",
         "6600970",
         "Pizza �� Bessa",
         "30",
         "Bras�_lia",
         "SCS 214, Bloco C, Loja 40, Asa Sul, Bras�_lia",
         "Asa Sul",
         "Asa Sul, Bras�_lia",
         "-47.91566667",
         "-15.83116667",
         "Pizza",
         "50",
         "Brazilian Real(R$)",
         "No",
         "No",
         "No",
         "No",
         "2",
         "3.2",
         "Orange",
         "Average",
         "11"
        ],
        [
         "27",
         "6600379",
         "Sushi Loko",
         "30",
         "Bras�_lia",
         "SCS 213, Bloco C, Loja 35, Asa Sul, Bras�_lia",
         "Asa Sul",
         "Asa Sul, Bras�_lia",
         "-47.91566667",
         "-15.831",
         "Japanese",
         "80",
         "Brazilian Real(R$)",
         "No",
         "No",
         "No",
         "No",
         "3",
         "3.1",
         "Orange",
         "Average",
         "10"
        ],
        [
         "28",
         "6600214",
         "Beirute",
         "30",
         "Bras�_lia",
         "CLS 109, Bloco A, Loja 2/6, Asa Sul, Bras�_lia",
         "Asa Sul",
         "Asa Sul, Bras�_lia",
         "-47.9075",
         "-15.82",
         "Arabian",
         "90",
         "Brazilian Real(R$)",
         "No",
         "No",
         "No",
         "No",
         "3",
         "3.7",
         "Yellow",
         "Good",
         "8"
        ],
        [
         "29",
         "6601218",
         "New Koto",
         "30",
         "Bras�_lia",
         "SCS 212, Bloco B, Loja 26, Asa Sul, Bras�_lia",
         "Asa Sul",
         "Asa Sul, Bras�_lia",
         "-47.91016667",
         "-15.82733333",
         "Japanese",
         "200",
         "Brazilian Real(R$)",
         "No",
         "No",
         "No",
         "No",
         "4",
         "3.7",
         "Yellow",
         "Good",
         "5"
        ],
        [
         "30",
         "6600060",
         "Sandubas Caf��",
         "30",
         "Bras�_lia",
         "Edif�_cio Jos�� Severo, SCS 6, Bloco A, Loja 99, Asa Sul, Bras�_lia",
         "Asa Sul",
         "Asa Sul, Bras�_lia",
         "-47.89016667",
         "-15.797",
         "Brazilian, Cafe",
         "30",
         "Brazilian Real(R$)",
         "No",
         "No",
         "No",
         "No",
         "1",
         "0.0",
         "White",
         "Not rated",
         "2"
        ],
        [
         "31",
         "6600083",
         "Villa Tevere",
         "30",
         "Bras�_lia",
         "CLS 115, Bloco A, Loja 2, Asa Sul, Bras�_lia",
         "Asa Sul",
         "Asa Sul, Bras�_lia",
         "-47.92366667",
         "-15.83133333",
         "Italian",
         "150",
         "Brazilian Real(R$)",
         "No",
         "No",
         "No",
         "No",
         "4",
         "4.1",
         "Green",
         "Very Good",
         "12"
        ],
        [
         "32",
         "6601515",
         "Rovereto",
         "30",
         "Bras�_lia",
         "Rua 13 Norte, Lote 4, �guas Claras, Bras�_lia",
         "�guas Claras",
         "�guas Claras, Bras�_lia",
         "-48.019",
         "-15.83716667",
         "Pizza",
         "100",
         "Brazilian Real(R$)",
         "No",
         "No",
         "No",
         "No",
         "4",
         "3.1",
         "Orange",
         "Average",
         "9"
        ],
        [
         "33",
         "6601361",
         "Buena Carne",
         "30",
         "Bras�_lia",
         "Avenida Arauc��rias, 1325, Loja 19, �guas Claras, Bras�_lia",
         "�guas Claras",
         "�guas Claras, Bras�_lia",
         "-48.01909167",
         "-15.839775",
         "Bar Food, Brazilian",
         "60",
         "Brazilian Real(R$)",
         "No",
         "No",
         "No",
         "No",
         "3",
         "3.6",
         "Yellow",
         "Good",
         "9"
        ],
        [
         "34",
         "6601602",
         "Taco Pep",
         "30",
         "Bras�_lia",
         "Vila Malls, Avenida das Castanheiras, Lote 1060, �guas Claras, Bras�_lia",
         "�guas Claras",
         "�guas Claras, Bras�_lia",
         "-48.01666667",
         "-15.83483333",
         "Mexican, Grill",
         "100",
         "Brazilian Real(R$)",
         "No",
         "No",
         "No",
         "No",
         "4",
         "4.3",
         "Green",
         "Very Good",
         "29"
        ],
        [
         "35",
         "6601589",
         "Coco Bambu",
         "30",
         "Bras�_lia",
         "Bras�_lia Shopping - Piso 2, SCN 5, Bloco A, Asa Norte, Bras�_lia",
         "Bras�_lia Shopping, Asa Norte",
         "Bras�_lia Shopping, Asa Norte, Bras�_lia",
         "-47.889",
         "-15.7865",
         "International",
         "230",
         "Brazilian Real(R$)",
         "No",
         "No",
         "No",
         "No",
         "4",
         "4.2",
         "Green",
         "Very Good",
         "17"
        ],
        [
         "36",
         "6601862",
         "Tayp��",
         "30",
         "Bras�_lia",
         "Fashion Park, Shis Ql 17, Bloco G, Loja 208, Lago Sul, Bras�_lia",
         "Lago Sul",
         "Lago Sul, Bras�_lia",
         "-47.872359",
         "-15.860621",
         "Peruvian, Latin American",
         "100",
         "Brazilian Real(R$)",
         "No",
         "No",
         "No",
         "No",
         "4",
         "3.6",
         "Yellow",
         "Good",
         "5"
        ],
        [
         "37",
         "6601595",
         "Outback Steakhouse",
         "30",
         "Bras�_lia",
         "ParkShopping - Piso 2, SAI/SO, �rea 6580, Guar�� I, Bras�_lia",
         "ParkShopping, Guar�� I",
         "ParkShopping, Guar�� I, Bras�_lia",
         "-47.95628333",
         "-15.83451389",
         "American, Grill",
         "150",
         "Brazilian Real(R$)",
         "No",
         "No",
         "No",
         "No",
         "4",
         "4.0",
         "Green",
         "Very Good",
         "10"
        ],
        [
         "38",
         "6601158",
         "Manzu��",
         "30",
         "Bras�_lia",
         "Pont��o Lago Sul, SHIS 10, Lote 9, Lago Sul, Bras�_lia",
         "Pont��o Lago Sul, Lago Sul",
         "Pont��o Lago Sul, Lago Sul, Bras�_lia",
         "-47.87283333",
         "-15.82566667",
         "Seafood",
         "240",
         "Brazilian Real(R$)",
         "No",
         "No",
         "No",
         "No",
         "4",
         "3.2",
         "Orange",
         "Average",
         "6"
        ],
        [
         "39",
         "6600427",
         "Coco Bambu",
         "30",
         "Bras�_lia",
         "SCES, Trecho 2, Conjunto 13/36, Setor de Clubes Esportivos Sul, Bras�_lia",
         "Setor De Clubes Esportivos Sul",
         "Setor De Clubes Esportivos Sul, Bras�_lia",
         "-47.8685",
         "-15.819",
         "International",
         "230",
         "Brazilian Real(R$)",
         "No",
         "No",
         "No",
         "No",
         "4",
         "4.9",
         "Dark Green",
         "Excellent",
         "30"
        ],
        [
         "40",
         "6600116",
         "Gero",
         "30",
         "Bras�_lia",
         "Shopping Iguatemi - piso 1, SHIN CA 4, Lote A, Lago Norte, Bras�_lia",
         "Shopping Iguatemi, Lago Norte",
         "Shopping Iguatemi, Lago Norte, Bras�_lia",
         "-47.885812",
         "-15.720118",
         "Italian",
         "350",
         "Brazilian Real(R$)",
         "No",
         "No",
         "No",
         "No",
         "4",
         "3.3",
         "Orange",
         "Average",
         "8"
        ],
        [
         "41",
         "6601457",
         "Brazilian American Burgers",
         "30",
         "Bras�_lia",
         "CLSN 301, Bloco C, Loja 86, Sudoeste, Bras�_lia",
         "Sudoeste",
         "Sudoeste, Bras�_lia",
         "-47.92102778",
         "-15.79753056",
         "American, Burger",
         "50",
         "Brazilian Real(R$)",
         "No",
         "No",
         "No",
         "No",
         "2",
         "3.6",
         "Yellow",
         "Good",
         "9"
        ],
        [
         "42",
         "7303219",
         "Pesqueiro Eco Gourmet",
         "30",
         "Rio de Janeiro",
         "Praia da Barra da Tijuca, Avenida L�_cio Costa, Ilha 25, Barra da Tijuca, Rio de Janeiro",
         "Barra da Tijuca",
         "Barra da Tijuca, Rio de Janeiro",
         "-43.377",
         "-23.0115",
         "Seafood, Bar Food, Brazilian",
         "140",
         "Brazilian Real(R$)",
         "No",
         "No",
         "No",
         "No",
         "4",
         "4.0",
         "Green",
         "Very Good",
         "7"
        ],
        [
         "43",
         "7304307",
         "Confeitaria Colombo",
         "30",
         "Rio de Janeiro",
         "Rua Gon�_alves Dias, 32, Centro, Rio de Janeiro",
         "Centro",
         "Centro, Rio de Janeiro",
         "-43.178826",
         "-22.905293",
         "Desserts, Cafe",
         "100",
         "Brazilian Real(R$)",
         "No",
         "No",
         "No",
         "No",
         "4",
         "4.8",
         "Dark Green",
         "Excellent",
         "29"
        ],
        [
         "44",
         "7301215",
         "Bibi",
         "30",
         "Rio de Janeiro",
         "Rua Santa Clara, 36, Copabana, Rio de Janeiro",
         "Copacabana",
         "Copacabana, Rio de Janeiro",
         "-43.18669167",
         "-22.97207222",
         "Juices, Healthy Food",
         "60",
         "Brazilian Real(R$)",
         "No",
         "No",
         "No",
         "No",
         "3",
         "4.7",
         "Dark Green",
         "Excellent",
         "24"
        ],
        [
         "45",
         "7300596",
         "Cervantes",
         "30",
         "Rio de Janeiro",
         "Avenida Prado Junior, 335 B, Copacabana, Rio de Janeiro",
         "Copacabana",
         "Copacabana, Rio de Janeiro",
         "-43.17583333",
         "-22.96216667",
         "Beverages, Bar Food, Fast Food",
         "90",
         "Brazilian Real(R$)",
         "No",
         "No",
         "No",
         "No",
         "3",
         "4.5",
         "Dark Green",
         "Excellent",
         "29"
        ],
        [
         "46",
         "7300612",
         "Amir",
         "30",
         "Rio de Janeiro",
         "Rua Ronald de Carvalho, 55, Copacabana, Rio de Janeiro",
         "Copacabana",
         "Copacabana, Rio de Janeiro",
         "-43.176",
         "-22.96516667",
         "Lebanese",
         "170",
         "Brazilian Real(R$)",
         "No",
         "No",
         "No",
         "No",
         "4",
         "4.2",
         "Green",
         "Very Good",
         "11"
        ],
        [
         "47",
         "7300704",
         "TT Burger",
         "30",
         "Rio de Janeiro",
         "Galeria River, Rua Francisco Otaviano, 67, Copacabana, Rio de Janeiro",
         "Galeria River, Copacabana",
         "Galeria River, Copacabana, Rio de Janeiro",
         "-43.191",
         "-22.98683333",
         "Burger",
         "60",
         "Brazilian Real(R$)",
         "No",
         "No",
         "No",
         "No",
         "3",
         "4.8",
         "Dark Green",
         "Excellent",
         "19"
        ],
        [
         "48",
         "7300955",
         "Braseiro da G��vea",
         "30",
         "Rio de Janeiro",
         "Pra�_a Santos Dumont, 116, G��vea, Rio de Janeiro",
         "G��vea",
         "G��vea, Rio de Janeiro",
         "-43.227042",
         "-22.973507",
         "Brazilian, Bar Food",
         "100",
         "Brazilian Real(R$)",
         "No",
         "No",
         "No",
         "No",
         "4",
         "4.9",
         "Dark Green",
         "Excellent",
         "40"
        ],
        [
         "49",
         "7300521",
         "Balada Mix",
         "30",
         "Rio de Janeiro",
         "Rua An�_bal de Mendon�_a, 37, Ipanema, Rio de Janeiro",
         "Ipanema",
         "Ipanema, Rio de Janeiro",
         "-43.211425",
         "-22.98520833",
         "Brazilian, Healthy Food, Juices, Pizza",
         "90",
         "Brazilian Real(R$)",
         "No",
         "No",
         "No",
         "No",
         "3",
         "4.6",
         "Dark Green",
         "Excellent",
         "21"
        ]
       ],
       "shape": {
        "columns": 21,
        "rows": 9551
       }
      },
      "text/html": [
       "<div>\n",
       "<style scoped>\n",
       "    .dataframe tbody tr th:only-of-type {\n",
       "        vertical-align: middle;\n",
       "    }\n",
       "\n",
       "    .dataframe tbody tr th {\n",
       "        vertical-align: top;\n",
       "    }\n",
       "\n",
       "    .dataframe thead th {\n",
       "        text-align: right;\n",
       "    }\n",
       "</style>\n",
       "<table border=\"1\" class=\"dataframe\">\n",
       "  <thead>\n",
       "    <tr style=\"text-align: right;\">\n",
       "      <th></th>\n",
       "      <th>Restaurant ID</th>\n",
       "      <th>Restaurant Name</th>\n",
       "      <th>Country Code</th>\n",
       "      <th>City</th>\n",
       "      <th>Address</th>\n",
       "      <th>Locality</th>\n",
       "      <th>Locality Verbose</th>\n",
       "      <th>Longitude</th>\n",
       "      <th>Latitude</th>\n",
       "      <th>Cuisines</th>\n",
       "      <th>...</th>\n",
       "      <th>Currency</th>\n",
       "      <th>Has Table booking</th>\n",
       "      <th>Has Online delivery</th>\n",
       "      <th>Is delivering now</th>\n",
       "      <th>Switch to order menu</th>\n",
       "      <th>Price range</th>\n",
       "      <th>Aggregate rating</th>\n",
       "      <th>Rating color</th>\n",
       "      <th>Rating text</th>\n",
       "      <th>Votes</th>\n",
       "    </tr>\n",
       "  </thead>\n",
       "  <tbody>\n",
       "    <tr>\n",
       "      <th>0</th>\n",
       "      <td>6317637</td>\n",
       "      <td>Le Petit Souffle</td>\n",
       "      <td>162</td>\n",
       "      <td>Makati City</td>\n",
       "      <td>Third Floor, Century City Mall, Kalayaan Avenu...</td>\n",
       "      <td>Century City Mall, Poblacion, Makati City</td>\n",
       "      <td>Century City Mall, Poblacion, Makati City, Mak...</td>\n",
       "      <td>121.027535</td>\n",
       "      <td>14.565443</td>\n",
       "      <td>French, Japanese, Desserts</td>\n",
       "      <td>...</td>\n",
       "      <td>Botswana Pula(P)</td>\n",
       "      <td>Yes</td>\n",
       "      <td>No</td>\n",
       "      <td>No</td>\n",
       "      <td>No</td>\n",
       "      <td>3</td>\n",
       "      <td>4.8</td>\n",
       "      <td>Dark Green</td>\n",
       "      <td>Excellent</td>\n",
       "      <td>314</td>\n",
       "    </tr>\n",
       "    <tr>\n",
       "      <th>1</th>\n",
       "      <td>6304287</td>\n",
       "      <td>Izakaya Kikufuji</td>\n",
       "      <td>162</td>\n",
       "      <td>Makati City</td>\n",
       "      <td>Little Tokyo, 2277 Chino Roces Avenue, Legaspi...</td>\n",
       "      <td>Little Tokyo, Legaspi Village, Makati City</td>\n",
       "      <td>Little Tokyo, Legaspi Village, Makati City, Ma...</td>\n",
       "      <td>121.014101</td>\n",
       "      <td>14.553708</td>\n",
       "      <td>Japanese</td>\n",
       "      <td>...</td>\n",
       "      <td>Botswana Pula(P)</td>\n",
       "      <td>Yes</td>\n",
       "      <td>No</td>\n",
       "      <td>No</td>\n",
       "      <td>No</td>\n",
       "      <td>3</td>\n",
       "      <td>4.5</td>\n",
       "      <td>Dark Green</td>\n",
       "      <td>Excellent</td>\n",
       "      <td>591</td>\n",
       "    </tr>\n",
       "    <tr>\n",
       "      <th>2</th>\n",
       "      <td>6300002</td>\n",
       "      <td>Heat - Edsa Shangri-La</td>\n",
       "      <td>162</td>\n",
       "      <td>Mandaluyong City</td>\n",
       "      <td>Edsa Shangri-La, 1 Garden Way, Ortigas, Mandal...</td>\n",
       "      <td>Edsa Shangri-La, Ortigas, Mandaluyong City</td>\n",
       "      <td>Edsa Shangri-La, Ortigas, Mandaluyong City, Ma...</td>\n",
       "      <td>121.056831</td>\n",
       "      <td>14.581404</td>\n",
       "      <td>Seafood, Asian, Filipino, Indian</td>\n",
       "      <td>...</td>\n",
       "      <td>Botswana Pula(P)</td>\n",
       "      <td>Yes</td>\n",
       "      <td>No</td>\n",
       "      <td>No</td>\n",
       "      <td>No</td>\n",
       "      <td>4</td>\n",
       "      <td>4.4</td>\n",
       "      <td>Green</td>\n",
       "      <td>Very Good</td>\n",
       "      <td>270</td>\n",
       "    </tr>\n",
       "    <tr>\n",
       "      <th>3</th>\n",
       "      <td>6318506</td>\n",
       "      <td>Ooma</td>\n",
       "      <td>162</td>\n",
       "      <td>Mandaluyong City</td>\n",
       "      <td>Third Floor, Mega Fashion Hall, SM Megamall, O...</td>\n",
       "      <td>SM Megamall, Ortigas, Mandaluyong City</td>\n",
       "      <td>SM Megamall, Ortigas, Mandaluyong City, Mandal...</td>\n",
       "      <td>121.056475</td>\n",
       "      <td>14.585318</td>\n",
       "      <td>Japanese, Sushi</td>\n",
       "      <td>...</td>\n",
       "      <td>Botswana Pula(P)</td>\n",
       "      <td>No</td>\n",
       "      <td>No</td>\n",
       "      <td>No</td>\n",
       "      <td>No</td>\n",
       "      <td>4</td>\n",
       "      <td>4.9</td>\n",
       "      <td>Dark Green</td>\n",
       "      <td>Excellent</td>\n",
       "      <td>365</td>\n",
       "    </tr>\n",
       "    <tr>\n",
       "      <th>4</th>\n",
       "      <td>6314302</td>\n",
       "      <td>Sambo Kojin</td>\n",
       "      <td>162</td>\n",
       "      <td>Mandaluyong City</td>\n",
       "      <td>Third Floor, Mega Atrium, SM Megamall, Ortigas...</td>\n",
       "      <td>SM Megamall, Ortigas, Mandaluyong City</td>\n",
       "      <td>SM Megamall, Ortigas, Mandaluyong City, Mandal...</td>\n",
       "      <td>121.057508</td>\n",
       "      <td>14.584450</td>\n",
       "      <td>Japanese, Korean</td>\n",
       "      <td>...</td>\n",
       "      <td>Botswana Pula(P)</td>\n",
       "      <td>Yes</td>\n",
       "      <td>No</td>\n",
       "      <td>No</td>\n",
       "      <td>No</td>\n",
       "      <td>4</td>\n",
       "      <td>4.8</td>\n",
       "      <td>Dark Green</td>\n",
       "      <td>Excellent</td>\n",
       "      <td>229</td>\n",
       "    </tr>\n",
       "    <tr>\n",
       "      <th>...</th>\n",
       "      <td>...</td>\n",
       "      <td>...</td>\n",
       "      <td>...</td>\n",
       "      <td>...</td>\n",
       "      <td>...</td>\n",
       "      <td>...</td>\n",
       "      <td>...</td>\n",
       "      <td>...</td>\n",
       "      <td>...</td>\n",
       "      <td>...</td>\n",
       "      <td>...</td>\n",
       "      <td>...</td>\n",
       "      <td>...</td>\n",
       "      <td>...</td>\n",
       "      <td>...</td>\n",
       "      <td>...</td>\n",
       "      <td>...</td>\n",
       "      <td>...</td>\n",
       "      <td>...</td>\n",
       "      <td>...</td>\n",
       "      <td>...</td>\n",
       "    </tr>\n",
       "    <tr>\n",
       "      <th>9546</th>\n",
       "      <td>5915730</td>\n",
       "      <td>Naml۱ Gurme</td>\n",
       "      <td>208</td>\n",
       "      <td>��stanbul</td>\n",
       "      <td>Kemanke�� Karamustafa Pa��a Mahallesi, R۱ht۱m ...</td>\n",
       "      <td>Karak�_y</td>\n",
       "      <td>Karak�_y, ��stanbul</td>\n",
       "      <td>28.977392</td>\n",
       "      <td>41.022793</td>\n",
       "      <td>Turkish</td>\n",
       "      <td>...</td>\n",
       "      <td>Turkish Lira(TL)</td>\n",
       "      <td>No</td>\n",
       "      <td>No</td>\n",
       "      <td>No</td>\n",
       "      <td>No</td>\n",
       "      <td>3</td>\n",
       "      <td>4.1</td>\n",
       "      <td>Green</td>\n",
       "      <td>Very Good</td>\n",
       "      <td>788</td>\n",
       "    </tr>\n",
       "    <tr>\n",
       "      <th>9547</th>\n",
       "      <td>5908749</td>\n",
       "      <td>Ceviz A��ac۱</td>\n",
       "      <td>208</td>\n",
       "      <td>��stanbul</td>\n",
       "      <td>Ko��uyolu Mahallesi, Muhittin ��st�_nda�� Cadd...</td>\n",
       "      <td>Ko��uyolu</td>\n",
       "      <td>Ko��uyolu, ��stanbul</td>\n",
       "      <td>29.041297</td>\n",
       "      <td>41.009847</td>\n",
       "      <td>World Cuisine, Patisserie, Cafe</td>\n",
       "      <td>...</td>\n",
       "      <td>Turkish Lira(TL)</td>\n",
       "      <td>No</td>\n",
       "      <td>No</td>\n",
       "      <td>No</td>\n",
       "      <td>No</td>\n",
       "      <td>3</td>\n",
       "      <td>4.2</td>\n",
       "      <td>Green</td>\n",
       "      <td>Very Good</td>\n",
       "      <td>1034</td>\n",
       "    </tr>\n",
       "    <tr>\n",
       "      <th>9548</th>\n",
       "      <td>5915807</td>\n",
       "      <td>Huqqa</td>\n",
       "      <td>208</td>\n",
       "      <td>��stanbul</td>\n",
       "      <td>Kuru�_e��me Mahallesi, Muallim Naci Caddesi, N...</td>\n",
       "      <td>Kuru�_e��me</td>\n",
       "      <td>Kuru�_e��me, ��stanbul</td>\n",
       "      <td>29.034640</td>\n",
       "      <td>41.055817</td>\n",
       "      <td>Italian, World Cuisine</td>\n",
       "      <td>...</td>\n",
       "      <td>Turkish Lira(TL)</td>\n",
       "      <td>No</td>\n",
       "      <td>No</td>\n",
       "      <td>No</td>\n",
       "      <td>No</td>\n",
       "      <td>4</td>\n",
       "      <td>3.7</td>\n",
       "      <td>Yellow</td>\n",
       "      <td>Good</td>\n",
       "      <td>661</td>\n",
       "    </tr>\n",
       "    <tr>\n",
       "      <th>9549</th>\n",
       "      <td>5916112</td>\n",
       "      <td>A���k Kahve</td>\n",
       "      <td>208</td>\n",
       "      <td>��stanbul</td>\n",
       "      <td>Kuru�_e��me Mahallesi, Muallim Naci Caddesi, N...</td>\n",
       "      <td>Kuru�_e��me</td>\n",
       "      <td>Kuru�_e��me, ��stanbul</td>\n",
       "      <td>29.036019</td>\n",
       "      <td>41.057979</td>\n",
       "      <td>Restaurant Cafe</td>\n",
       "      <td>...</td>\n",
       "      <td>Turkish Lira(TL)</td>\n",
       "      <td>No</td>\n",
       "      <td>No</td>\n",
       "      <td>No</td>\n",
       "      <td>No</td>\n",
       "      <td>4</td>\n",
       "      <td>4.0</td>\n",
       "      <td>Green</td>\n",
       "      <td>Very Good</td>\n",
       "      <td>901</td>\n",
       "    </tr>\n",
       "    <tr>\n",
       "      <th>9550</th>\n",
       "      <td>5927402</td>\n",
       "      <td>Walter's Coffee Roastery</td>\n",
       "      <td>208</td>\n",
       "      <td>��stanbul</td>\n",
       "      <td>Cafea��a Mahallesi, Bademalt۱ Sokak, No 21/B, ...</td>\n",
       "      <td>Moda</td>\n",
       "      <td>Moda, ��stanbul</td>\n",
       "      <td>29.026016</td>\n",
       "      <td>40.984776</td>\n",
       "      <td>Cafe</td>\n",
       "      <td>...</td>\n",
       "      <td>Turkish Lira(TL)</td>\n",
       "      <td>No</td>\n",
       "      <td>No</td>\n",
       "      <td>No</td>\n",
       "      <td>No</td>\n",
       "      <td>2</td>\n",
       "      <td>4.0</td>\n",
       "      <td>Green</td>\n",
       "      <td>Very Good</td>\n",
       "      <td>591</td>\n",
       "    </tr>\n",
       "  </tbody>\n",
       "</table>\n",
       "<p>9551 rows × 21 columns</p>\n",
       "</div>"
      ],
      "text/plain": [
       "      Restaurant ID           Restaurant Name  Country Code              City  \\\n",
       "0           6317637          Le Petit Souffle           162       Makati City   \n",
       "1           6304287          Izakaya Kikufuji           162       Makati City   \n",
       "2           6300002    Heat - Edsa Shangri-La           162  Mandaluyong City   \n",
       "3           6318506                      Ooma           162  Mandaluyong City   \n",
       "4           6314302               Sambo Kojin           162  Mandaluyong City   \n",
       "...             ...                       ...           ...               ...   \n",
       "9546        5915730               Naml۱ Gurme           208         ��stanbul   \n",
       "9547        5908749              Ceviz A��ac۱           208         ��stanbul   \n",
       "9548        5915807                     Huqqa           208         ��stanbul   \n",
       "9549        5916112               A���k Kahve           208         ��stanbul   \n",
       "9550        5927402  Walter's Coffee Roastery           208         ��stanbul   \n",
       "\n",
       "                                                Address  \\\n",
       "0     Third Floor, Century City Mall, Kalayaan Avenu...   \n",
       "1     Little Tokyo, 2277 Chino Roces Avenue, Legaspi...   \n",
       "2     Edsa Shangri-La, 1 Garden Way, Ortigas, Mandal...   \n",
       "3     Third Floor, Mega Fashion Hall, SM Megamall, O...   \n",
       "4     Third Floor, Mega Atrium, SM Megamall, Ortigas...   \n",
       "...                                                 ...   \n",
       "9546  Kemanke�� Karamustafa Pa��a Mahallesi, R۱ht۱m ...   \n",
       "9547  Ko��uyolu Mahallesi, Muhittin ��st�_nda�� Cadd...   \n",
       "9548  Kuru�_e��me Mahallesi, Muallim Naci Caddesi, N...   \n",
       "9549  Kuru�_e��me Mahallesi, Muallim Naci Caddesi, N...   \n",
       "9550  Cafea��a Mahallesi, Bademalt۱ Sokak, No 21/B, ...   \n",
       "\n",
       "                                        Locality  \\\n",
       "0      Century City Mall, Poblacion, Makati City   \n",
       "1     Little Tokyo, Legaspi Village, Makati City   \n",
       "2     Edsa Shangri-La, Ortigas, Mandaluyong City   \n",
       "3         SM Megamall, Ortigas, Mandaluyong City   \n",
       "4         SM Megamall, Ortigas, Mandaluyong City   \n",
       "...                                          ...   \n",
       "9546                                    Karak�_y   \n",
       "9547                                   Ko��uyolu   \n",
       "9548                                 Kuru�_e��me   \n",
       "9549                                 Kuru�_e��me   \n",
       "9550                                        Moda   \n",
       "\n",
       "                                       Locality Verbose   Longitude  \\\n",
       "0     Century City Mall, Poblacion, Makati City, Mak...  121.027535   \n",
       "1     Little Tokyo, Legaspi Village, Makati City, Ma...  121.014101   \n",
       "2     Edsa Shangri-La, Ortigas, Mandaluyong City, Ma...  121.056831   \n",
       "3     SM Megamall, Ortigas, Mandaluyong City, Mandal...  121.056475   \n",
       "4     SM Megamall, Ortigas, Mandaluyong City, Mandal...  121.057508   \n",
       "...                                                 ...         ...   \n",
       "9546                                Karak�_y, ��stanbul   28.977392   \n",
       "9547                               Ko��uyolu, ��stanbul   29.041297   \n",
       "9548                             Kuru�_e��me, ��stanbul   29.034640   \n",
       "9549                             Kuru�_e��me, ��stanbul   29.036019   \n",
       "9550                                    Moda, ��stanbul   29.026016   \n",
       "\n",
       "       Latitude                          Cuisines  ...          Currency  \\\n",
       "0     14.565443        French, Japanese, Desserts  ...  Botswana Pula(P)   \n",
       "1     14.553708                          Japanese  ...  Botswana Pula(P)   \n",
       "2     14.581404  Seafood, Asian, Filipino, Indian  ...  Botswana Pula(P)   \n",
       "3     14.585318                   Japanese, Sushi  ...  Botswana Pula(P)   \n",
       "4     14.584450                  Japanese, Korean  ...  Botswana Pula(P)   \n",
       "...         ...                               ...  ...               ...   \n",
       "9546  41.022793                           Turkish  ...  Turkish Lira(TL)   \n",
       "9547  41.009847   World Cuisine, Patisserie, Cafe  ...  Turkish Lira(TL)   \n",
       "9548  41.055817            Italian, World Cuisine  ...  Turkish Lira(TL)   \n",
       "9549  41.057979                   Restaurant Cafe  ...  Turkish Lira(TL)   \n",
       "9550  40.984776                              Cafe  ...  Turkish Lira(TL)   \n",
       "\n",
       "     Has Table booking Has Online delivery Is delivering now  \\\n",
       "0                  Yes                  No                No   \n",
       "1                  Yes                  No                No   \n",
       "2                  Yes                  No                No   \n",
       "3                   No                  No                No   \n",
       "4                  Yes                  No                No   \n",
       "...                ...                 ...               ...   \n",
       "9546                No                  No                No   \n",
       "9547                No                  No                No   \n",
       "9548                No                  No                No   \n",
       "9549                No                  No                No   \n",
       "9550                No                  No                No   \n",
       "\n",
       "     Switch to order menu Price range  Aggregate rating  Rating color  \\\n",
       "0                      No           3               4.8    Dark Green   \n",
       "1                      No           3               4.5    Dark Green   \n",
       "2                      No           4               4.4         Green   \n",
       "3                      No           4               4.9    Dark Green   \n",
       "4                      No           4               4.8    Dark Green   \n",
       "...                   ...         ...               ...           ...   \n",
       "9546                   No           3               4.1         Green   \n",
       "9547                   No           3               4.2         Green   \n",
       "9548                   No           4               3.7        Yellow   \n",
       "9549                   No           4               4.0         Green   \n",
       "9550                   No           2               4.0         Green   \n",
       "\n",
       "     Rating text Votes  \n",
       "0      Excellent   314  \n",
       "1      Excellent   591  \n",
       "2      Very Good   270  \n",
       "3      Excellent   365  \n",
       "4      Excellent   229  \n",
       "...          ...   ...  \n",
       "9546   Very Good   788  \n",
       "9547   Very Good  1034  \n",
       "9548        Good   661  \n",
       "9549   Very Good   901  \n",
       "9550   Very Good   591  \n",
       "\n",
       "[9551 rows x 21 columns]"
      ]
     },
     "execution_count": 66,
     "metadata": {},
     "output_type": "execute_result"
    }
   ],
   "source": [
    "# The dataframe 'df' is already loaded and available for use.\n",
    "df = pd.read_csv('Dataset .csv')\n",
    "df"
   ]
  },
  {
   "cell_type": "code",
   "execution_count": 46,
   "id": "d4387338",
   "metadata": {},
   "outputs": [
    {
     "data": {
      "application/vnd.microsoft.datawrangler.viewer.v0+json": {
       "columns": [
        {
         "name": "index",
         "rawType": "object",
         "type": "string"
        },
        {
         "name": "Restaurant ID",
         "rawType": "float64",
         "type": "float"
        },
        {
         "name": "Country Code",
         "rawType": "float64",
         "type": "float"
        },
        {
         "name": "Longitude",
         "rawType": "float64",
         "type": "float"
        },
        {
         "name": "Latitude",
         "rawType": "float64",
         "type": "float"
        },
        {
         "name": "Average Cost for two",
         "rawType": "float64",
         "type": "float"
        },
        {
         "name": "Price range",
         "rawType": "float64",
         "type": "float"
        },
        {
         "name": "Aggregate rating",
         "rawType": "float64",
         "type": "float"
        },
        {
         "name": "Votes",
         "rawType": "float64",
         "type": "float"
        }
       ],
       "ref": "421f6815-16e4-4d7a-b780-027bfc539fae",
       "rows": [
        [
         "count",
         "9551.0",
         "9551.0",
         "9551.0",
         "9551.0",
         "9551.0",
         "9551.0",
         "9551.0",
         "9551.0"
        ],
        [
         "mean",
         "9051128.349178096",
         "18.365616165846507",
         "64.12657446168704",
         "25.854380700074756",
         "1199.2107632708617",
         "1.804837189823055",
         "2.6663700136111403",
         "156.909747670401"
        ],
        [
         "std",
         "8791521.282104285",
         "56.75054560094657",
         "41.46705784761728",
         "11.007935124784668",
         "16121.183073499646",
         "0.905608847397614",
         "1.5163775396521326",
         "430.1691453762912"
        ],
        [
         "min",
         "53.0",
         "1.0",
         "-157.948486",
         "-41.330428",
         "0.0",
         "1.0",
         "0.0",
         "0.0"
        ],
        [
         "25%",
         "301962.5",
         "1.0",
         "77.08134305",
         "28.4787126",
         "250.0",
         "1.0",
         "2.5",
         "5.0"
        ],
        [
         "50%",
         "6004089.0",
         "1.0",
         "77.1919642",
         "28.57046888",
         "400.0",
         "2.0",
         "3.2",
         "31.0"
        ],
        [
         "75%",
         "18352291.5",
         "1.0",
         "77.2820063",
         "28.6427582",
         "700.0",
         "2.0",
         "3.7",
         "131.0"
        ],
        [
         "max",
         "18500652.0",
         "216.0",
         "174.8320893",
         "55.97698",
         "800000.0",
         "4.0",
         "4.9",
         "10934.0"
        ]
       ],
       "shape": {
        "columns": 8,
        "rows": 8
       }
      },
      "text/html": [
       "<div>\n",
       "<style scoped>\n",
       "    .dataframe tbody tr th:only-of-type {\n",
       "        vertical-align: middle;\n",
       "    }\n",
       "\n",
       "    .dataframe tbody tr th {\n",
       "        vertical-align: top;\n",
       "    }\n",
       "\n",
       "    .dataframe thead th {\n",
       "        text-align: right;\n",
       "    }\n",
       "</style>\n",
       "<table border=\"1\" class=\"dataframe\">\n",
       "  <thead>\n",
       "    <tr style=\"text-align: right;\">\n",
       "      <th></th>\n",
       "      <th>Restaurant ID</th>\n",
       "      <th>Country Code</th>\n",
       "      <th>Longitude</th>\n",
       "      <th>Latitude</th>\n",
       "      <th>Average Cost for two</th>\n",
       "      <th>Price range</th>\n",
       "      <th>Aggregate rating</th>\n",
       "      <th>Votes</th>\n",
       "    </tr>\n",
       "  </thead>\n",
       "  <tbody>\n",
       "    <tr>\n",
       "      <th>count</th>\n",
       "      <td>9.551000e+03</td>\n",
       "      <td>9551.000000</td>\n",
       "      <td>9551.000000</td>\n",
       "      <td>9551.000000</td>\n",
       "      <td>9551.000000</td>\n",
       "      <td>9551.000000</td>\n",
       "      <td>9551.000000</td>\n",
       "      <td>9551.000000</td>\n",
       "    </tr>\n",
       "    <tr>\n",
       "      <th>mean</th>\n",
       "      <td>9.051128e+06</td>\n",
       "      <td>18.365616</td>\n",
       "      <td>64.126574</td>\n",
       "      <td>25.854381</td>\n",
       "      <td>1199.210763</td>\n",
       "      <td>1.804837</td>\n",
       "      <td>2.666370</td>\n",
       "      <td>156.909748</td>\n",
       "    </tr>\n",
       "    <tr>\n",
       "      <th>std</th>\n",
       "      <td>8.791521e+06</td>\n",
       "      <td>56.750546</td>\n",
       "      <td>41.467058</td>\n",
       "      <td>11.007935</td>\n",
       "      <td>16121.183073</td>\n",
       "      <td>0.905609</td>\n",
       "      <td>1.516378</td>\n",
       "      <td>430.169145</td>\n",
       "    </tr>\n",
       "    <tr>\n",
       "      <th>min</th>\n",
       "      <td>5.300000e+01</td>\n",
       "      <td>1.000000</td>\n",
       "      <td>-157.948486</td>\n",
       "      <td>-41.330428</td>\n",
       "      <td>0.000000</td>\n",
       "      <td>1.000000</td>\n",
       "      <td>0.000000</td>\n",
       "      <td>0.000000</td>\n",
       "    </tr>\n",
       "    <tr>\n",
       "      <th>25%</th>\n",
       "      <td>3.019625e+05</td>\n",
       "      <td>1.000000</td>\n",
       "      <td>77.081343</td>\n",
       "      <td>28.478713</td>\n",
       "      <td>250.000000</td>\n",
       "      <td>1.000000</td>\n",
       "      <td>2.500000</td>\n",
       "      <td>5.000000</td>\n",
       "    </tr>\n",
       "    <tr>\n",
       "      <th>50%</th>\n",
       "      <td>6.004089e+06</td>\n",
       "      <td>1.000000</td>\n",
       "      <td>77.191964</td>\n",
       "      <td>28.570469</td>\n",
       "      <td>400.000000</td>\n",
       "      <td>2.000000</td>\n",
       "      <td>3.200000</td>\n",
       "      <td>31.000000</td>\n",
       "    </tr>\n",
       "    <tr>\n",
       "      <th>75%</th>\n",
       "      <td>1.835229e+07</td>\n",
       "      <td>1.000000</td>\n",
       "      <td>77.282006</td>\n",
       "      <td>28.642758</td>\n",
       "      <td>700.000000</td>\n",
       "      <td>2.000000</td>\n",
       "      <td>3.700000</td>\n",
       "      <td>131.000000</td>\n",
       "    </tr>\n",
       "    <tr>\n",
       "      <th>max</th>\n",
       "      <td>1.850065e+07</td>\n",
       "      <td>216.000000</td>\n",
       "      <td>174.832089</td>\n",
       "      <td>55.976980</td>\n",
       "      <td>800000.000000</td>\n",
       "      <td>4.000000</td>\n",
       "      <td>4.900000</td>\n",
       "      <td>10934.000000</td>\n",
       "    </tr>\n",
       "  </tbody>\n",
       "</table>\n",
       "</div>"
      ],
      "text/plain": [
       "       Restaurant ID  Country Code    Longitude     Latitude  \\\n",
       "count   9.551000e+03   9551.000000  9551.000000  9551.000000   \n",
       "mean    9.051128e+06     18.365616    64.126574    25.854381   \n",
       "std     8.791521e+06     56.750546    41.467058    11.007935   \n",
       "min     5.300000e+01      1.000000  -157.948486   -41.330428   \n",
       "25%     3.019625e+05      1.000000    77.081343    28.478713   \n",
       "50%     6.004089e+06      1.000000    77.191964    28.570469   \n",
       "75%     1.835229e+07      1.000000    77.282006    28.642758   \n",
       "max     1.850065e+07    216.000000   174.832089    55.976980   \n",
       "\n",
       "       Average Cost for two  Price range  Aggregate rating         Votes  \n",
       "count           9551.000000  9551.000000       9551.000000   9551.000000  \n",
       "mean            1199.210763     1.804837          2.666370    156.909748  \n",
       "std            16121.183073     0.905609          1.516378    430.169145  \n",
       "min                0.000000     1.000000          0.000000      0.000000  \n",
       "25%              250.000000     1.000000          2.500000      5.000000  \n",
       "50%              400.000000     2.000000          3.200000     31.000000  \n",
       "75%              700.000000     2.000000          3.700000    131.000000  \n",
       "max           800000.000000     4.000000          4.900000  10934.000000  "
      ]
     },
     "execution_count": 46,
     "metadata": {},
     "output_type": "execute_result"
    }
   ],
   "source": [
    "df.describe()"
   ]
  },
  {
   "cell_type": "code",
   "execution_count": 48,
   "id": "62b9a2c1",
   "metadata": {},
   "outputs": [
    {
     "data": {
      "text/plain": [
       "np.int64(0)"
      ]
     },
     "execution_count": 48,
     "metadata": {},
     "output_type": "execute_result"
    }
   ],
   "source": [
    "df.duplicated().sum()"
   ]
  },
  {
   "cell_type": "code",
   "execution_count": 50,
   "id": "24d00f2f",
   "metadata": {},
   "outputs": [
    {
     "data": {
      "application/vnd.microsoft.datawrangler.viewer.v0+json": {
       "columns": [
        {
         "name": "index",
         "rawType": "object",
         "type": "string"
        },
        {
         "name": "0",
         "rawType": "int64",
         "type": "integer"
        }
       ],
       "ref": "d64547ae-2f08-4ffa-a8be-b3c79011221d",
       "rows": [
        [
         "Restaurant ID",
         "0"
        ],
        [
         "Restaurant Name",
         "0"
        ],
        [
         "Country Code",
         "0"
        ],
        [
         "City",
         "0"
        ],
        [
         "Address",
         "0"
        ],
        [
         "Locality",
         "0"
        ],
        [
         "Locality Verbose",
         "0"
        ],
        [
         "Longitude",
         "0"
        ],
        [
         "Latitude",
         "0"
        ],
        [
         "Cuisines",
         "9"
        ],
        [
         "Average Cost for two",
         "0"
        ],
        [
         "Currency",
         "0"
        ],
        [
         "Has Table booking",
         "0"
        ],
        [
         "Has Online delivery",
         "0"
        ],
        [
         "Is delivering now",
         "0"
        ],
        [
         "Switch to order menu",
         "0"
        ],
        [
         "Price range",
         "0"
        ],
        [
         "Aggregate rating",
         "0"
        ],
        [
         "Rating color",
         "0"
        ],
        [
         "Rating text",
         "0"
        ],
        [
         "Votes",
         "0"
        ]
       ],
       "shape": {
        "columns": 1,
        "rows": 21
       }
      },
      "text/plain": [
       "Restaurant ID           0\n",
       "Restaurant Name         0\n",
       "Country Code            0\n",
       "City                    0\n",
       "Address                 0\n",
       "Locality                0\n",
       "Locality Verbose        0\n",
       "Longitude               0\n",
       "Latitude                0\n",
       "Cuisines                9\n",
       "Average Cost for two    0\n",
       "Currency                0\n",
       "Has Table booking       0\n",
       "Has Online delivery     0\n",
       "Is delivering now       0\n",
       "Switch to order menu    0\n",
       "Price range             0\n",
       "Aggregate rating        0\n",
       "Rating color            0\n",
       "Rating text             0\n",
       "Votes                   0\n",
       "dtype: int64"
      ]
     },
     "execution_count": 50,
     "metadata": {},
     "output_type": "execute_result"
    }
   ],
   "source": [
    "df.isna().sum()"
   ]
  },
  {
   "cell_type": "code",
   "execution_count": 51,
   "id": "1270a4b1",
   "metadata": {},
   "outputs": [
    {
     "data": {
      "text/plain": [
       "Index(['Restaurant ID', 'Restaurant Name', 'Country Code', 'City', 'Address',\n",
       "       'Locality', 'Locality Verbose', 'Longitude', 'Latitude', 'Cuisines',\n",
       "       'Average Cost for two', 'Currency', 'Has Table booking',\n",
       "       'Has Online delivery', 'Is delivering now', 'Switch to order menu',\n",
       "       'Price range', 'Aggregate rating', 'Rating color', 'Rating text',\n",
       "       'Votes'],\n",
       "      dtype='object')"
      ]
     },
     "execution_count": 51,
     "metadata": {},
     "output_type": "execute_result"
    }
   ],
   "source": [
    "df.columns"
   ]
  },
  {
   "cell_type": "code",
   "execution_count": 65,
   "id": "030f77e2",
   "metadata": {},
   "outputs": [
    {
     "data": {
      "image/png": "[encoded data removed]",
      "text/plain": [
       "<Figure size 1200x600 with 1 Axes>"
      ]
     },
     "metadata": {},
     "output_type": "display_data"
    }
   ],
   "source": [
    "#Group by city and calculate average cost \n",
    "df.groupby('City')[\"Average Cost for two\"].mean().sort_values(ascending=False).head(10).plot(kind='bar', figsize=(12, 6), color='skyblue')\n",
    "plt.title('Top 10 Cities by Average Cost for Two')\n",
    "plt.xlabel('City')\n",
    "plt.ylabel('Amount')\n",
    "plt.show()"
   ]
  },
  {
   "cell_type": "code",
   "execution_count": null,
   "id": "0cdb764a",
   "metadata": {},
   "outputs": [
    {
     "data": {
      "application/vnd.microsoft.datawrangler.viewer.v0+json": {
       "columns": [
        {
         "name": "index",
         "rawType": "int64",
         "type": "integer"
        },
        {
         "name": "Cuisines",
         "rawType": "object",
         "type": "string"
        },
        {
         "name": "Votes",
         "rawType": "int64",
         "type": "integer"
        }
       ],
       "ref": "f847b78a-b455-4810-bb9d-f4b5c2d9a506",
       "rows": [
        [
         "0",
         "Afghani",
         "39"
        ],
        [
         "1",
         "Afghani, Mughlai, Chinese",
         "2"
        ],
        [
         "2",
         "Afghani, North Indian",
         "0"
        ],
        [
         "3",
         "Afghani, North Indian, Pakistani, Arabian",
         "3"
        ],
        [
         "4",
         "African",
         "373"
        ],
        [
         "5",
         "African, Portuguese",
         "265"
        ],
        [
         "6",
         "American",
         "7802"
        ],
        [
         "7",
         "American, Asian, Burger",
         "1078"
        ],
        [
         "8",
         "American, Asian, European, Seafood",
         "1691"
        ],
        [
         "9",
         "American, Asian, Italian, Seafood",
         "618"
        ],
        [
         "10",
         "American, Asian, North Indian, Mexican, South Indian",
         "21"
        ],
        [
         "11",
         "American, BBQ",
         "724"
        ],
        [
         "12",
         "American, BBQ, Burger",
         "439"
        ],
        [
         "13",
         "American, BBQ, Sandwich",
         "1252"
        ],
        [
         "14",
         "American, BBQ, Seafood",
         "65"
        ],
        [
         "15",
         "American, BBQ, Southern",
         "150"
        ],
        [
         "16",
         "American, BBQ, Steak",
         "742"
        ],
        [
         "17",
         "American, Bakery, European, Burger, Fusion",
         "28"
        ],
        [
         "18",
         "American, Bar Food",
         "2225"
        ],
        [
         "19",
         "American, Bar Food, BBQ",
         "2"
        ],
        [
         "20",
         "American, Bar Food, Sandwich",
         "747"
        ],
        [
         "21",
         "American, Breakfast",
         "1815"
        ],
        [
         "22",
         "American, Breakfast, Burger",
         "977"
        ],
        [
         "23",
         "American, Breakfast, Desserts",
         "96"
        ],
        [
         "24",
         "American, Breakfast, Diner",
         "20"
        ],
        [
         "25",
         "American, Breakfast, Greek",
         "85"
        ],
        [
         "26",
         "American, Breakfast, Hawaiian",
         "694"
        ],
        [
         "27",
         "American, Breakfast, Vegetarian",
         "797"
        ],
        [
         "28",
         "American, British, Continental",
         "969"
        ],
        [
         "29",
         "American, Burger",
         "6371"
        ],
        [
         "30",
         "American, Burger, Cafe",
         "9667"
        ],
        [
         "31",
         "American, Burger, Cajun",
         "88"
        ],
        [
         "32",
         "American, Burger, Fast Food",
         "413"
        ],
        [
         "33",
         "American, Burger, Grill",
         "162"
        ],
        [
         "34",
         "American, Burger, Pizza, Cafe",
         "89"
        ],
        [
         "35",
         "American, Burger, Sandwich",
         "1104"
        ],
        [
         "36",
         "American, Cafe",
         "676"
        ],
        [
         "37",
         "American, Caribbean, Seafood",
         "548"
        ],
        [
         "38",
         "American, Chinese, North Indian",
         "93"
        ],
        [
         "39",
         "American, Chinese, North Indian, Italian",
         "42"
        ],
        [
         "40",
         "American, Chinese, Sushi",
         "243"
        ],
        [
         "41",
         "American, Coffee and Tea",
         "570"
        ],
        [
         "42",
         "American, Continental, Burger",
         "150"
        ],
        [
         "43",
         "American, Continental, Italian",
         "203"
        ],
        [
         "44",
         "American, Continental, Italian, Bakery",
         "393"
        ],
        [
         "45",
         "American, Continental, Italian, North Indian, Asian",
         "4914"
        ],
        [
         "46",
         "American, Continental, North Indian, Chinese",
         "379"
        ],
        [
         "47",
         "American, Desserts",
         "3010"
        ],
        [
         "48",
         "American, Desserts, Diner",
         "161"
        ],
        [
         "49",
         "American, Desserts, Steak",
         "3157"
        ]
       ],
       "shape": {
        "columns": 2,
        "rows": 1825
       }
      },
      "text/html": [
       "<div>\n",
       "<style scoped>\n",
       "    .dataframe tbody tr th:only-of-type {\n",
       "        vertical-align: middle;\n",
       "    }\n",
       "\n",
       "    .dataframe tbody tr th {\n",
       "        vertical-align: top;\n",
       "    }\n",
       "\n",
       "    .dataframe thead th {\n",
       "        text-align: right;\n",
       "    }\n",
       "</style>\n",
       "<table border=\"1\" class=\"dataframe\">\n",
       "  <thead>\n",
       "    <tr style=\"text-align: right;\">\n",
       "      <th></th>\n",
       "      <th>Cuisines</th>\n",
       "      <th>Votes</th>\n",
       "    </tr>\n",
       "  </thead>\n",
       "  <tbody>\n",
       "    <tr>\n",
       "      <th>0</th>\n",
       "      <td>Afghani</td>\n",
       "      <td>39</td>\n",
       "    </tr>\n",
       "    <tr>\n",
       "      <th>1</th>\n",
       "      <td>Afghani, Mughlai, Chinese</td>\n",
       "      <td>2</td>\n",
       "    </tr>\n",
       "    <tr>\n",
       "      <th>2</th>\n",
       "      <td>Afghani, North Indian</td>\n",
       "      <td>0</td>\n",
       "    </tr>\n",
       "    <tr>\n",
       "      <th>3</th>\n",
       "      <td>Afghani, North Indian, Pakistani, Arabian</td>\n",
       "      <td>3</td>\n",
       "    </tr>\n",
       "    <tr>\n",
       "      <th>4</th>\n",
       "      <td>African</td>\n",
       "      <td>373</td>\n",
       "    </tr>\n",
       "    <tr>\n",
       "      <th>...</th>\n",
       "      <td>...</td>\n",
       "      <td>...</td>\n",
       "    </tr>\n",
       "    <tr>\n",
       "      <th>1820</th>\n",
       "      <td>Western, Asian, Cafe</td>\n",
       "      <td>259</td>\n",
       "    </tr>\n",
       "    <tr>\n",
       "      <th>1821</th>\n",
       "      <td>Western, Fusion, Fast Food</td>\n",
       "      <td>32</td>\n",
       "    </tr>\n",
       "    <tr>\n",
       "      <th>1822</th>\n",
       "      <td>World Cuisine</td>\n",
       "      <td>95</td>\n",
       "    </tr>\n",
       "    <tr>\n",
       "      <th>1823</th>\n",
       "      <td>World Cuisine, Mexican, Italian</td>\n",
       "      <td>115</td>\n",
       "    </tr>\n",
       "    <tr>\n",
       "      <th>1824</th>\n",
       "      <td>World Cuisine, Patisserie, Cafe</td>\n",
       "      <td>1034</td>\n",
       "    </tr>\n",
       "  </tbody>\n",
       "</table>\n",
       "<p>1825 rows × 2 columns</p>\n",
       "</div>"
      ],
      "text/plain": [
       "                                       Cuisines  Votes\n",
       "0                                       Afghani     39\n",
       "1                     Afghani, Mughlai, Chinese      2\n",
       "2                         Afghani, North Indian      0\n",
       "3     Afghani, North Indian, Pakistani, Arabian      3\n",
       "4                                       African    373\n",
       "...                                         ...    ...\n",
       "1820                       Western, Asian, Cafe    259\n",
       "1821                 Western, Fusion, Fast Food     32\n",
       "1822                              World Cuisine     95\n",
       "1823            World Cuisine, Mexican, Italian    115\n",
       "1824            World Cuisine, Patisserie, Cafe   1034\n",
       "\n",
       "[1825 rows x 2 columns]"
      ]
     },
     "execution_count": 74,
     "metadata": {},
     "output_type": "execute_result"
    }
   ],
   "source": [
    "# Cuisines total number of votes \n",
    "data = df.groupby('Cuisines')[\"Votes\"].sum().reset_index()\n",
    "\n",
    "data[data[\"Votes\"] != 0]"
   ]
  },
  {
   "cell_type": "code",
   "execution_count": 79,
   "id": "b5bc030b",
   "metadata": {},
   "outputs": [
    {
     "data": {
      "text/plain": [
       "<seaborn.axisgrid.PairGrid at 0x15db72350>"
      ]
     },
     "execution_count": 79,
     "metadata": {},
     "output_type": "execute_result"
    },
    {
     "data": {
      "image/png": "[encoded data removed]",
      "text/plain": [
       "<Figure size 750x750 with 12 Axes>"
      ]
     },
     "metadata": {},
     "output_type": "display_data"
    }
   ],
   "source": [
    "sns.pairplot(df[['Average Cost for two', 'Aggregate rating', 'Votes']])"
   ]
  },
  {
   "cell_type": "code",
   "execution_count": null,
   "id": "8eb9bdfc",
   "metadata": {},
   "outputs": [
    {
     "data": {
      "text/plain": [
       "Index(['Restaurant ID', 'Restaurant Name', 'Country Code', 'City', 'Address',\n",
       "       'Locality', 'Locality Verbose', 'Longitude', 'Latitude', 'Cuisines',\n",
       "       'Average Cost for two', 'Currency', 'Has Table booking',\n",
       "       'Has Online delivery', 'Is delivering now', 'Switch to order menu',\n",
       "       'Price range', 'Aggregate rating', 'Rating color', 'Rating text',\n",
       "       'Votes'],\n",
       "      dtype='object')"
      ]
     },
     "execution_count": 80,
     "metadata": {},
     "output_type": "execute_result"
    }
   ],
   "source": [
    "df.columns"
   ]
  },
  {
   "cell_type": "code",
   "execution_count": 90,
   "id": "2b8a9459",
   "metadata": {},
   "outputs": [
    {
     "data": {
      "image/png": "[encoded data removed]",
      "text/plain": [
       "<Figure size 800x500 with 1 Axes>"
      ]
     },
     "metadata": {},
     "output_type": "display_data"
    }
   ],
   "source": [
    "df[\"Has Online delivery\"].value_counts().plot(kind='pie', figsize=(8, 5))\n",
    "plt.title('Has Online Delivery?')\n",
    "plt.ylabel('')\n",
    "plt.legend(title='Online Delivery', labels=['No', 'Yes'], loc='upper right')\n",
    "plt.show()\n"
   ]
  },
  {
   "cell_type": "code",
   "execution_count": 98,
   "id": "39ee3d1b",
   "metadata": {},
   "outputs": [
    {
     "data": {
      "application/vnd.microsoft.datawrangler.viewer.v0+json": {
       "columns": [
        {
         "name": "index",
         "rawType": "int64",
         "type": "integer"
        },
        {
         "name": "Aggregate rating",
         "rawType": "float64",
         "type": "float"
        },
        {
         "name": "Rating text",
         "rawType": "object",
         "type": "string"
        }
       ],
       "ref": "211c3d56-4060-459b-bb00-3fd6babeac74",
       "rows": [
        [
         "1381",
         "4.9",
         "Excellent"
        ],
        [
         "589",
         "4.9",
         "Excellent"
        ],
        [
         "374",
         "4.9",
         "Excellent"
        ],
        [
         "9303",
         "4.9",
         "Excellent"
        ],
        [
         "9299",
         "4.9",
         "Excellent"
        ],
        [
         "9296",
         "4.9",
         "Excellent"
        ],
        [
         "50",
         "4.9",
         "Excellent"
        ],
        [
         "9291",
         "4.9",
         "Excellent"
        ],
        [
         "48",
         "4.9",
         "Excellent"
        ],
        [
         "428",
         "4.9",
         "Excellent"
        ],
        [
         "429",
         "4.9",
         "Excellent"
        ],
        [
         "9287",
         "4.9",
         "Excellent"
        ],
        [
         "9279",
         "4.9",
         "Excellent"
        ],
        [
         "9262",
         "4.9",
         "Excellent"
        ],
        [
         "507",
         "4.9",
         "Excellent"
        ],
        [
         "509",
         "4.9",
         "Excellent"
        ],
        [
         "9514",
         "4.9",
         "Excellent"
        ],
        [
         "363",
         "4.9",
         "Excellent"
        ],
        [
         "362",
         "4.9",
         "Excellent"
        ],
        [
         "324",
         "4.9",
         "Excellent"
        ],
        [
         "9424",
         "4.9",
         "Excellent"
        ],
        [
         "9484",
         "4.9",
         "Excellent"
        ],
        [
         "124",
         "4.9",
         "Excellent"
        ],
        [
         "175",
         "4.9",
         "Excellent"
        ],
        [
         "9458",
         "4.9",
         "Excellent"
        ],
        [
         "9457",
         "4.9",
         "Excellent"
        ],
        [
         "213",
         "4.9",
         "Excellent"
        ],
        [
         "235",
         "4.9",
         "Excellent"
        ],
        [
         "304",
         "4.9",
         "Excellent"
        ],
        [
         "250",
         "4.9",
         "Excellent"
        ],
        [
         "9404",
         "4.9",
         "Excellent"
        ],
        [
         "9524",
         "4.9",
         "Excellent"
        ],
        [
         "9388",
         "4.9",
         "Excellent"
        ],
        [
         "9380",
         "4.9",
         "Excellent"
        ],
        [
         "9379",
         "4.9",
         "Excellent"
        ],
        [
         "580",
         "4.9",
         "Excellent"
        ],
        [
         "39",
         "4.9",
         "Excellent"
        ],
        [
         "590",
         "4.9",
         "Excellent"
        ],
        [
         "2350",
         "4.9",
         "Excellent"
        ],
        [
         "10",
         "4.9",
         "Excellent"
        ],
        [
         "2409",
         "4.9",
         "Excellent"
        ],
        [
         "2414",
         "4.9",
         "Excellent"
        ],
        [
         "2418",
         "4.9",
         "Excellent"
        ],
        [
         "2495",
         "4.9",
         "Excellent"
        ],
        [
         "8",
         "4.9",
         "Excellent"
        ],
        [
         "2536",
         "4.9",
         "Excellent"
        ],
        [
         "3013",
         "4.9",
         "Excellent"
        ],
        [
         "3601",
         "4.9",
         "Excellent"
        ],
        [
         "4298",
         "4.9",
         "Excellent"
        ],
        [
         "2307",
         "4.9",
         "Excellent"
        ]
       ],
       "shape": {
        "columns": 2,
        "rows": 1000
       }
      },
      "text/html": [
       "<div>\n",
       "<style scoped>\n",
       "    .dataframe tbody tr th:only-of-type {\n",
       "        vertical-align: middle;\n",
       "    }\n",
       "\n",
       "    .dataframe tbody tr th {\n",
       "        vertical-align: top;\n",
       "    }\n",
       "\n",
       "    .dataframe thead th {\n",
       "        text-align: right;\n",
       "    }\n",
       "</style>\n",
       "<table border=\"1\" class=\"dataframe\">\n",
       "  <thead>\n",
       "    <tr style=\"text-align: right;\">\n",
       "      <th></th>\n",
       "      <th>Aggregate rating</th>\n",
       "      <th>Rating text</th>\n",
       "    </tr>\n",
       "  </thead>\n",
       "  <tbody>\n",
       "    <tr>\n",
       "      <th>1381</th>\n",
       "      <td>4.9</td>\n",
       "      <td>Excellent</td>\n",
       "    </tr>\n",
       "    <tr>\n",
       "      <th>589</th>\n",
       "      <td>4.9</td>\n",
       "      <td>Excellent</td>\n",
       "    </tr>\n",
       "    <tr>\n",
       "      <th>374</th>\n",
       "      <td>4.9</td>\n",
       "      <td>Excellent</td>\n",
       "    </tr>\n",
       "    <tr>\n",
       "      <th>9303</th>\n",
       "      <td>4.9</td>\n",
       "      <td>Excellent</td>\n",
       "    </tr>\n",
       "    <tr>\n",
       "      <th>9299</th>\n",
       "      <td>4.9</td>\n",
       "      <td>Excellent</td>\n",
       "    </tr>\n",
       "    <tr>\n",
       "      <th>...</th>\n",
       "      <td>...</td>\n",
       "      <td>...</td>\n",
       "    </tr>\n",
       "    <tr>\n",
       "      <th>385</th>\n",
       "      <td>4.1</td>\n",
       "      <td>Very Good</td>\n",
       "    </tr>\n",
       "    <tr>\n",
       "      <th>1632</th>\n",
       "      <td>4.1</td>\n",
       "      <td>Very Good</td>\n",
       "    </tr>\n",
       "    <tr>\n",
       "      <th>862</th>\n",
       "      <td>4.1</td>\n",
       "      <td>Very Good</td>\n",
       "    </tr>\n",
       "    <tr>\n",
       "      <th>1555</th>\n",
       "      <td>4.1</td>\n",
       "      <td>Very Good</td>\n",
       "    </tr>\n",
       "    <tr>\n",
       "      <th>1551</th>\n",
       "      <td>4.1</td>\n",
       "      <td>Very Good</td>\n",
       "    </tr>\n",
       "  </tbody>\n",
       "</table>\n",
       "<p>1000 rows × 2 columns</p>\n",
       "</div>"
      ],
      "text/plain": [
       "      Aggregate rating Rating text\n",
       "1381               4.9   Excellent\n",
       "589                4.9   Excellent\n",
       "374                4.9   Excellent\n",
       "9303               4.9   Excellent\n",
       "9299               4.9   Excellent\n",
       "...                ...         ...\n",
       "385                4.1   Very Good\n",
       "1632               4.1   Very Good\n",
       "862                4.1   Very Good\n",
       "1555               4.1   Very Good\n",
       "1551               4.1   Very Good\n",
       "\n",
       "[1000 rows x 2 columns]"
      ]
     },
     "execution_count": 98,
     "metadata": {},
     "output_type": "execute_result"
    }
   ],
   "source": [
    "df[[\"Aggregate rating\", \"Rating text\"]].sort_values(by=\"Aggregate rating\", ascending=False).head(1000)"
   ]
  },
  {
   "cell_type": "code",
   "execution_count": 106,
   "id": "00a08abf",
   "metadata": {},
   "outputs": [
    {
     "data": {
      "image/png": "[encoded data removed]",
      "text/plain": [
       "<Figure size 1200x600 with 1 Axes>"
      ]
     },
     "metadata": {},
     "output_type": "display_data"
    }
   ],
   "source": [
    "df = df[df[\"Rating text\"] != \"Not rated\"]\n",
    "df[\"Rating text\"].value_counts().plot(kind='pie', figsize=(12, 6))\n",
    "plt.title('Rating Averages')\n",
    "plt.ylabel('')\n",
    "plt.show()"
   ]
  },
  {
   "cell_type": "code",
   "execution_count": 107,
   "id": "23dde7d2",
   "metadata": {},
   "outputs": [
    {
     "data": {
      "text/plain": [
       "Index(['Restaurant ID', 'Restaurant Name', 'Country Code', 'City', 'Address',\n",
       "       'Locality', 'Locality Verbose', 'Longitude', 'Latitude', 'Cuisines',\n",
       "       'Average Cost for two', 'Currency', 'Has Table booking',\n",
       "       'Has Online delivery', 'Is delivering now', 'Switch to order menu',\n",
       "       'Price range', 'Aggregate rating', 'Rating color', 'Rating text',\n",
       "       'Votes'],\n",
       "      dtype='object')"
      ]
     },
     "execution_count": 107,
     "metadata": {},
     "output_type": "execute_result"
    }
   ],
   "source": [
    "df.columns"
   ]
  },
  {
   "cell_type": "code",
   "execution_count": null,
   "id": "bb289515",
   "metadata": {},
   "outputs": [
    {
     "data": {
      "application/vnd.microsoft.datawrangler.viewer.v0+json": {
       "columns": [
        {
         "name": "index",
         "rawType": "int64",
         "type": "integer"
        },
        {
         "name": "Average Cost for two",
         "rawType": "int64",
         "type": "integer"
        },
        {
         "name": "Has Table booking",
         "rawType": "object",
         "type": "string"
        },
        {
         "name": "Has Online delivery",
         "rawType": "object",
         "type": "string"
        },
        {
         "name": "Price range",
         "rawType": "int64",
         "type": "integer"
        }
       ],
       "ref": "71e0dd7d-46bc-4050-b23a-43be31081b40",
       "rows": [
        [
         "0",
         "1100",
         "Yes",
         "No",
         "3"
        ],
        [
         "1",
         "1200",
         "Yes",
         "No",
         "3"
        ],
        [
         "2",
         "4000",
         "Yes",
         "No",
         "4"
        ],
        [
         "3",
         "1500",
         "No",
         "No",
         "4"
        ],
        [
         "4",
         "1500",
         "Yes",
         "No",
         "4"
        ],
        [
         "5",
         "1000",
         "No",
         "No",
         "3"
        ],
        [
         "6",
         "2000",
         "Yes",
         "No",
         "4"
        ],
        [
         "7",
         "2000",
         "Yes",
         "No",
         "4"
        ],
        [
         "8",
         "6000",
         "Yes",
         "No",
         "4"
        ],
        [
         "9",
         "1100",
         "Yes",
         "No",
         "3"
        ],
        [
         "10",
         "800",
         "No",
         "No",
         "3"
        ],
        [
         "11",
         "900",
         "Yes",
         "No",
         "3"
        ],
        [
         "12",
         "800",
         "No",
         "No",
         "3"
        ],
        [
         "13",
         "1000",
         "Yes",
         "No",
         "3"
        ],
        [
         "14",
         "700",
         "No",
         "No",
         "3"
        ],
        [
         "15",
         "800",
         "No",
         "No",
         "3"
        ],
        [
         "16",
         "850",
         "No",
         "No",
         "3"
        ],
        [
         "17",
         "1200",
         "Yes",
         "No",
         "3"
        ],
        [
         "18",
         "600",
         "No",
         "No",
         "2"
        ],
        [
         "19",
         "1500",
         "Yes",
         "No",
         "4"
        ],
        [
         "20",
         "3000",
         "Yes",
         "No",
         "4"
        ],
        [
         "21",
         "1800",
         "Yes",
         "No",
         "4"
        ],
        [
         "22",
         "55",
         "No",
         "No",
         "2"
        ],
        [
         "23",
         "30",
         "No",
         "No",
         "1"
        ],
        [
         "24",
         "45",
         "No",
         "No",
         "2"
        ],
        [
         "25",
         "60",
         "No",
         "No",
         "3"
        ],
        [
         "26",
         "50",
         "No",
         "No",
         "2"
        ],
        [
         "27",
         "80",
         "No",
         "No",
         "3"
        ],
        [
         "28",
         "90",
         "No",
         "No",
         "3"
        ],
        [
         "29",
         "200",
         "No",
         "No",
         "4"
        ],
        [
         "31",
         "150",
         "No",
         "No",
         "4"
        ],
        [
         "32",
         "100",
         "No",
         "No",
         "4"
        ],
        [
         "33",
         "60",
         "No",
         "No",
         "3"
        ],
        [
         "34",
         "100",
         "No",
         "No",
         "4"
        ],
        [
         "35",
         "230",
         "No",
         "No",
         "4"
        ],
        [
         "36",
         "100",
         "No",
         "No",
         "4"
        ],
        [
         "37",
         "150",
         "No",
         "No",
         "4"
        ],
        [
         "38",
         "240",
         "No",
         "No",
         "4"
        ],
        [
         "39",
         "230",
         "No",
         "No",
         "4"
        ],
        [
         "40",
         "350",
         "No",
         "No",
         "4"
        ],
        [
         "41",
         "50",
         "No",
         "No",
         "2"
        ],
        [
         "42",
         "140",
         "No",
         "No",
         "4"
        ],
        [
         "43",
         "100",
         "No",
         "No",
         "4"
        ],
        [
         "44",
         "60",
         "No",
         "No",
         "3"
        ],
        [
         "45",
         "90",
         "No",
         "No",
         "3"
        ],
        [
         "46",
         "170",
         "No",
         "No",
         "4"
        ],
        [
         "47",
         "60",
         "No",
         "No",
         "3"
        ],
        [
         "48",
         "100",
         "No",
         "No",
         "4"
        ],
        [
         "49",
         "90",
         "No",
         "No",
         "3"
        ],
        [
         "50",
         "120",
         "No",
         "No",
         "4"
        ]
       ],
       "shape": {
        "columns": 4,
        "rows": 7403
       }
      },
      "text/html": [
       "<div>\n",
       "<style scoped>\n",
       "    .dataframe tbody tr th:only-of-type {\n",
       "        vertical-align: middle;\n",
       "    }\n",
       "\n",
       "    .dataframe tbody tr th {\n",
       "        vertical-align: top;\n",
       "    }\n",
       "\n",
       "    .dataframe thead th {\n",
       "        text-align: right;\n",
       "    }\n",
       "</style>\n",
       "<table border=\"1\" class=\"dataframe\">\n",
       "  <thead>\n",
       "    <tr style=\"text-align: right;\">\n",
       "      <th></th>\n",
       "      <th>Average Cost for two</th>\n",
       "      <th>Has Table booking</th>\n",
       "      <th>Has Online delivery</th>\n",
       "      <th>Price range</th>\n",
       "    </tr>\n",
       "  </thead>\n",
       "  <tbody>\n",
       "    <tr>\n",
       "      <th>0</th>\n",
       "      <td>1100</td>\n",
       "      <td>Yes</td>\n",
       "      <td>No</td>\n",
       "      <td>3</td>\n",
       "    </tr>\n",
       "    <tr>\n",
       "      <th>1</th>\n",
       "      <td>1200</td>\n",
       "      <td>Yes</td>\n",
       "      <td>No</td>\n",
       "      <td>3</td>\n",
       "    </tr>\n",
       "    <tr>\n",
       "      <th>2</th>\n",
       "      <td>4000</td>\n",
       "      <td>Yes</td>\n",
       "      <td>No</td>\n",
       "      <td>4</td>\n",
       "    </tr>\n",
       "    <tr>\n",
       "      <th>3</th>\n",
       "      <td>1500</td>\n",
       "      <td>No</td>\n",
       "      <td>No</td>\n",
       "      <td>4</td>\n",
       "    </tr>\n",
       "    <tr>\n",
       "      <th>4</th>\n",
       "      <td>1500</td>\n",
       "      <td>Yes</td>\n",
       "      <td>No</td>\n",
       "      <td>4</td>\n",
       "    </tr>\n",
       "    <tr>\n",
       "      <th>...</th>\n",
       "      <td>...</td>\n",
       "      <td>...</td>\n",
       "      <td>...</td>\n",
       "      <td>...</td>\n",
       "    </tr>\n",
       "    <tr>\n",
       "      <th>9546</th>\n",
       "      <td>80</td>\n",
       "      <td>No</td>\n",
       "      <td>No</td>\n",
       "      <td>3</td>\n",
       "    </tr>\n",
       "    <tr>\n",
       "      <th>9547</th>\n",
       "      <td>105</td>\n",
       "      <td>No</td>\n",
       "      <td>No</td>\n",
       "      <td>3</td>\n",
       "    </tr>\n",
       "    <tr>\n",
       "      <th>9548</th>\n",
       "      <td>170</td>\n",
       "      <td>No</td>\n",
       "      <td>No</td>\n",
       "      <td>4</td>\n",
       "    </tr>\n",
       "    <tr>\n",
       "      <th>9549</th>\n",
       "      <td>120</td>\n",
       "      <td>No</td>\n",
       "      <td>No</td>\n",
       "      <td>4</td>\n",
       "    </tr>\n",
       "    <tr>\n",
       "      <th>9550</th>\n",
       "      <td>55</td>\n",
       "      <td>No</td>\n",
       "      <td>No</td>\n",
       "      <td>2</td>\n",
       "    </tr>\n",
       "  </tbody>\n",
       "</table>\n",
       "<p>7403 rows × 4 columns</p>\n",
       "</div>"
      ],
      "text/plain": [
       "      Average Cost for two Has Table booking Has Online delivery  Price range\n",
       "0                     1100               Yes                  No            3\n",
       "1                     1200               Yes                  No            3\n",
       "2                     4000               Yes                  No            4\n",
       "3                     1500                No                  No            4\n",
       "4                     1500               Yes                  No            4\n",
       "...                    ...               ...                 ...          ...\n",
       "9546                    80                No                  No            3\n",
       "9547                   105                No                  No            3\n",
       "9548                   170                No                  No            4\n",
       "9549                   120                No                  No            4\n",
       "9550                    55                No                  No            2\n",
       "\n",
       "[7403 rows x 4 columns]"
      ]
     },
     "execution_count": 110,
     "metadata": {},
     "output_type": "execute_result"
    }
   ],
   "source": [
    "X = df[['Average Cost for two', 'Has Table booking', 'Has Online delivery', 'Price range']]\n",
    "\n",
    "\n",
    "# Above 2 below 2.5 Poor \n",
    "# Above 2.5 below 3.5 Average\n",
    "# Above 3.5 below 4.0 Good\n",
    "# Above 4.0 Very Good\n",
    "# Above 4.5 Excellent"
   ]
  },
  {
   "cell_type": "code",
   "execution_count": 113,
   "id": "01f3be4c",
   "metadata": {},
   "outputs": [],
   "source": [
    "y = df['Aggregate rating']"
   ]
  },
  {
   "cell_type": "code",
   "execution_count": null,
   "id": "8f5ee09f",
   "metadata": {},
   "outputs": [
    {
     "data": {
      "application/vnd.microsoft.datawrangler.viewer.v0+json": {
       "columns": [
        {
         "name": "Price range",
         "rawType": "int64",
         "type": "integer"
        },
        {
         "name": "count",
         "rawType": "int64",
         "type": "integer"
        }
       ],
       "ref": "30b84d90-8769-4ec7-9f4c-c2ad97ea2373",
       "rows": [
        [
         "1",
         "2744"
        ],
        [
         "2",
         "2711"
        ],
        [
         "3",
         "1373"
        ],
        [
         "4",
         "575"
        ]
       ],
       "shape": {
        "columns": 1,
        "rows": 4
       }
      },
      "text/plain": [
       "Price range\n",
       "1    2744\n",
       "2    2711\n",
       "3    1373\n",
       "4     575\n",
       "Name: count, dtype: int64"
      ]
     },
     "execution_count": 115,
     "metadata": {},
     "output_type": "execute_result"
    }
   ],
   "source": [
    "X"
   ]
  },
  {
   "cell_type": "code",
   "execution_count": 118,
   "id": "24b0fdc4",
   "metadata": {},
   "outputs": [
    {
     "ename": "ModuleNotFoundError",
     "evalue": "No module named 'sklern'",
     "output_type": "error",
     "traceback": [
      "\u001b[31m---------------------------------------------------------------------------\u001b[39m",
      "\u001b[31mModuleNotFoundError\u001b[39m                       Traceback (most recent call last)",
      "\u001b[36mCell\u001b[39m\u001b[36m \u001b[39m\u001b[32mIn[118]\u001b[39m\u001b[32m, line 1\u001b[39m\n\u001b[32m----> \u001b[39m\u001b[32m1\u001b[39m \u001b[38;5;28;01mimport\u001b[39;00m\u001b[38;5;250m \u001b[39m\u001b[34;01msklern\u001b[39;00m \n\u001b[32m      2\u001b[39m \u001b[38;5;28;01mfrom\u001b[39;00m\u001b[38;5;250m \u001b[39m\u001b[34;01msklern\u001b[39;00m\u001b[38;5;250m \u001b[39m\u001b[38;5;28;01mimport\u001b[39;00m preprocessing \n",
      "\u001b[31mModuleNotFoundError\u001b[39m: No module named 'sklern'"
     ]
    }
   ],
   "source": [
    "import sklern \n",
    "from sklern import preprocessing \n",
    "\n"
   ]
  },
  {
   "cell_type": "code",
   "execution_count": null,
   "id": "d155a713",
   "metadata": {},
   "outputs": [],
   "source": []
  }
 ],
 "metadata": {
  "kernelspec": {
   "display_name": ".venv",
   "language": "python",
   "name": "python3"
  },
  "language_info": {
   "codemirror_mode": {
    "name": "ipython",
    "version": 3
   },
   "file_extension": ".py",
   "mimetype": "text/x-python",
   "name": "python",
   "nbconvert_exporter": "python",
   "pygments_lexer": "ipython3",
   "version": "3.13.0"
  }
 },
 "nbformat": 4,
 "nbformat_minor": 5
}
